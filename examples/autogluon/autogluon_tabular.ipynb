{
 "cells": [
  {
   "cell_type": "code",
   "execution_count": null,
   "metadata": {},
   "outputs": [],
   "source": [
    "from pathlib import Path\n",
    "\n",
    "import pandas as pd\n",
    "from autogluon.tabular import TabularDataset, TabularPredictor"
   ]
  },
  {
   "cell_type": "code",
   "execution_count": null,
   "metadata": {},
   "outputs": [],
   "source": [
    "# load data\n",
    "save_dir = Path(\"/path/to/saved/data\")\n",
    "\n",
    "# we can load the data as pandas dataframe for autogluon\n",
    "train_data_df = pd.read_csv(save_dir / \"train_data.csv\")\n",
    "tuning_data_df = pd.read_csv(save_dir / \"tuning_data.csv\")\n",
    "held_out_data_df = pd.read_csv(save_dir / \"held_out_data.csv\")\n",
    "\n",
    "\n",
    "# create autogluon dataset\n",
    "train_dataset = TabularDataset(train_data_df)\n",
    "tuning_dataset = TabularDataset(tuning_data_df)\n",
    "held_out_dataset = TabularDataset(held_out_data_df)\n",
    "\n",
    "# train model\n",
    "predictor = TabularPredictor(label=\"label\").fit(train_data=train_dataset)"
   ]
  },
  {
   "cell_type": "code",
   "execution_count": null,
   "metadata": {},
   "outputs": [],
   "source": [
    "# predict\n",
    "predictions = predictor.predict(held_out_dataset.drop(columns=[\"label\"]))\n",
    "\n",
    "# evaluate\n",
    "predictor.evaluate(held_out_dataset)"
   ]
  }
 ],
 "metadata": {
  "kernelspec": {
   "display_name": "meds-tab",
   "language": "python",
   "name": "python3"
  },
  "language_info": {
   "codemirror_mode": {
    "name": "ipython",
    "version": 3
   },
   "file_extension": ".py",
   "mimetype": "text/x-python",
   "name": "python",
   "nbconvert_exporter": "python",
   "pygments_lexer": "ipython3",
   "version": "3.12.0"
  }
 },
 "nbformat": 4,
 "nbformat_minor": 2
}
