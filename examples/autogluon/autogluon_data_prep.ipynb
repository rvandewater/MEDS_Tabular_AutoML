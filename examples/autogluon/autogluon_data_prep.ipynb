{
 "cells": [
  {
   "cell_type": "code",
   "execution_count": null,
   "metadata": {},
   "outputs": [],
   "source": [
    "from pathlib import Path\n",
    "\n",
    "import numpy as np\n",
    "import pandas as pd\n",
    "\n",
    "from MEDS_tabular_automl.scripts.launch_xgboost import Iterator"
   ]
  },
  {
   "cell_type": "code",
   "execution_count": null,
   "metadata": {},
   "outputs": [],
   "source": [
    "from hydra import compose, initialize\n",
    "from omegaconf import OmegaConf\n",
    "\n",
    "overrides_config = {\n",
    "    \"MEDS_cohort_dir\": \"/path/to/data\",\n",
    "    \"output_cohort_dir\": \"/path/to/output_cohort\",\n",
    "    \"do_overwrite\": False,\n",
    "    \"seed\": 1,\n",
    "    \"hydra.verbose\": True,\n",
    "    \"tqdm\": False,\n",
    "    \"loguru_init\": True,\n",
    "    \"task_name\": \"long_los\",\n",
    "    \"tabularization.window_sizes\": [\"1d\", \"30d\", \"365d\", \"full\"],\n",
    "    \"tabularization.aggs\": [\n",
    "        \"static/present\",\n",
    "        \"code/count\",\n",
    "        \"value/count\",\n",
    "        \"value/sum\",\n",
    "        \"value/sum_sqd\",\n",
    "        \"value/min\",\n",
    "        \"value/max\",\n",
    "    ],\n",
    "}\n",
    "with initialize(version_base=None, config_path=\"../src/MEDS_tabular_automl/configs/\"):  # path to config.yaml\n",
    "    overrides = [f\"{k}={v}\" for k, v in overrides_config.items()]\n",
    "    cfg = compose(config_name=\"launch_xgboost\", overrides=overrides)\n",
    "\n",
    "# get cfg for iterators from configs\n",
    "iterator_train = Iterator(cfg, split=\"train\")\n",
    "iterator_tuning = Iterator(cfg, split=\"tuning\")\n",
    "iterator_held_out = Iterator(cfg, split=\"held_out\")"
   ]
  },
  {
   "cell_type": "code",
   "execution_count": null,
   "metadata": {},
   "outputs": [],
   "source": [
    "# ideally, you could load the data from the iterator into autogluon TabularDatasets (after converting to pandas dataframe)\n",
    "# this is not possible since autogluon requires Python <=3.11, so until this dependency is resolved you must save and load the data\n",
    "\n",
    "save_dir = Path(\"/path/to/saved/data\")\n",
    "train_data, train_labels = iterator_train.collect_in_memory()\n",
    "# autogluon only accepts data as pandas dataframe\n",
    "train_data_df = pd.DataFrame(train_data.todense(), columns=iterator_train.get_all_column_names())\n",
    "train_data_df[\"label\"] = train_labels\n",
    "train_data_df.to_csv(save_dir / \"train_data.csv\", index=False)\n",
    "\n",
    "tuning_data, tuning_labels = iterator_tuning.collect_in_memory()\n",
    "tuning_data_df = pd.DataFrame(tuning_data.todense(), columns=iterator_tuning.get_all_column_names())\n",
    "tuning_data_df[\"label\"] = tuning_labels\n",
    "tuning_data_df.to_csv(save_dir / \"tuning_data.csv\", index=False)\n",
    "\n",
    "held_out_data, held_out_labels = iterator_held_out.collect_in_memory()\n",
    "held_out_data_df = pd.DataFrame(held_out_data.todense(), columns=iterator_held_out.get_all_column_names())\n",
    "held_out_data_df[\"label\"] = held_out_labels\n",
    "held_out_data_df.to_csv(save_dir / \"held_out_data.csv\", index=False)"
   ]
  }
 ],
 "metadata": {
  "kernelspec": {
   "display_name": "meds-tab",
   "language": "python",
   "name": "python3"
  },
  "language_info": {
   "codemirror_mode": {
    "name": "ipython",
    "version": 3
   },
   "file_extension": ".py",
   "mimetype": "text/x-python",
   "name": "python",
   "nbconvert_exporter": "python",
   "pygments_lexer": "ipython3",
   "version": "3.12.5"
  }
 },
 "nbformat": 4,
 "nbformat_minor": 2
}
